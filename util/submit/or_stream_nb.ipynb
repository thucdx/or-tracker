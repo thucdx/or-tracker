{
 "cells": [
  {
   "cell_type": "code",
   "execution_count": 29,
   "metadata": {
    "collapsed": true
   },
   "outputs": [],
   "source": [
    "import pandas as pd\n",
    "import time\n",
    "import datetime\n",
    "import json\n",
    "import requests"
   ]
  },
  {
   "cell_type": "code",
   "execution_count": null,
   "outputs": [],
   "source": [],
   "metadata": {
    "collapsed": false,
    "pycharm": {
     "name": "#%%\n"
    }
   }
  },
  {
   "cell_type": "code",
   "execution_count": 48,
   "outputs": [],
   "source": [
    "url = \"http://localhost:1234/track\"\n",
    "csv_inp = \"../../samples/processed_atuanhm_0603.csv\"\n",
    "id = \"30f-79728\"\n",
    "delay = 0.001 # ms\n",
    "step = False"
   ],
   "metadata": {
    "collapsed": false,
    "pycharm": {
     "name": "#%%\n"
    }
   }
  },
  {
   "cell_type": "code",
   "execution_count": 49,
   "outputs": [
    {
     "data": {
      "text/plain": "              ts  index_record  heading       lat        lng  positionTime  \\\n0  1622678439803             0       84  20.99894  105.71914    1622678424   \n1  1622678439803             1       84  20.99894  105.71913    1622678425   \n2  1622678439803             2       84  20.99892  105.71912    1622678426   \n3  1622678439803             3       27  20.99892  105.71909    1622678427   \n4  1622678439803             4        4  20.99890  105.71907    1622678428   \n\n        h_positionTime        h_receiveTime  \n0  2021-06-03 07:00:24  2021-06-03 07:00:39  \n1  2021-06-03 07:00:25  2021-06-03 07:00:39  \n2  2021-06-03 07:00:26  2021-06-03 07:00:39  \n3  2021-06-03 07:00:27  2021-06-03 07:00:39  \n4  2021-06-03 07:00:28  2021-06-03 07:00:39  ",
      "text/html": "<div>\n<style scoped>\n    .dataframe tbody tr th:only-of-type {\n        vertical-align: middle;\n    }\n\n    .dataframe tbody tr th {\n        vertical-align: top;\n    }\n\n    .dataframe thead th {\n        text-align: right;\n    }\n</style>\n<table border=\"1\" class=\"dataframe\">\n  <thead>\n    <tr style=\"text-align: right;\">\n      <th></th>\n      <th>ts</th>\n      <th>index_record</th>\n      <th>heading</th>\n      <th>lat</th>\n      <th>lng</th>\n      <th>positionTime</th>\n      <th>h_positionTime</th>\n      <th>h_receiveTime</th>\n    </tr>\n  </thead>\n  <tbody>\n    <tr>\n      <th>0</th>\n      <td>1622678439803</td>\n      <td>0</td>\n      <td>84</td>\n      <td>20.99894</td>\n      <td>105.71914</td>\n      <td>1622678424</td>\n      <td>2021-06-03 07:00:24</td>\n      <td>2021-06-03 07:00:39</td>\n    </tr>\n    <tr>\n      <th>1</th>\n      <td>1622678439803</td>\n      <td>1</td>\n      <td>84</td>\n      <td>20.99894</td>\n      <td>105.71913</td>\n      <td>1622678425</td>\n      <td>2021-06-03 07:00:25</td>\n      <td>2021-06-03 07:00:39</td>\n    </tr>\n    <tr>\n      <th>2</th>\n      <td>1622678439803</td>\n      <td>2</td>\n      <td>84</td>\n      <td>20.99892</td>\n      <td>105.71912</td>\n      <td>1622678426</td>\n      <td>2021-06-03 07:00:26</td>\n      <td>2021-06-03 07:00:39</td>\n    </tr>\n    <tr>\n      <th>3</th>\n      <td>1622678439803</td>\n      <td>3</td>\n      <td>27</td>\n      <td>20.99892</td>\n      <td>105.71909</td>\n      <td>1622678427</td>\n      <td>2021-06-03 07:00:27</td>\n      <td>2021-06-03 07:00:39</td>\n    </tr>\n    <tr>\n      <th>4</th>\n      <td>1622678439803</td>\n      <td>4</td>\n      <td>4</td>\n      <td>20.99890</td>\n      <td>105.71907</td>\n      <td>1622678428</td>\n      <td>2021-06-03 07:00:28</td>\n      <td>2021-06-03 07:00:39</td>\n    </tr>\n  </tbody>\n</table>\n</div>"
     },
     "execution_count": 49,
     "metadata": {},
     "output_type": "execute_result"
    }
   ],
   "source": [
    "inp = pd.read_csv(csv_inp)\n",
    "inp.head()"
   ],
   "metadata": {
    "collapsed": false,
    "pycharm": {
     "name": "#%%\n"
    }
   }
  },
  {
   "cell_type": "code",
   "execution_count": null,
   "outputs": [
    {
     "name": "stdout",
     "output_type": "stream",
     "text": [
      "0\n",
      "{\"lat\": 20.99894, \"lng\": 105.71914, \"heading\": 84, \"id\": \"30f-79728\", \"time\": 1622678424000}\n",
      "\"SUCCESS\"\n",
      "1\n",
      "{\"lat\": 20.99894, \"lng\": 105.71913, \"heading\": 84, \"id\": \"30f-79728\", \"time\": 1622678425000}\n",
      "\"SUCCESS\"\n",
      "2\n",
      "{\"lat\": 20.998920000000002, \"lng\": 105.71911999999999, \"heading\": 84, \"id\": \"30f-79728\", \"time\": 1622678426000}\n",
      "\"SUCCESS\"\n",
      "3\n",
      "{\"lat\": 20.998920000000002, \"lng\": 105.71909, \"heading\": 27, \"id\": \"30f-79728\", \"time\": 1622678427000}\n",
      "\"SUCCESS\"\n",
      "4\n",
      "{\"lat\": 20.9989, \"lng\": 105.71907, \"heading\": 4, \"id\": \"30f-79728\", \"time\": 1622678428000}\n",
      "\"SUCCESS\"\n",
      "5\n",
      "{\"lat\": 20.99889, \"lng\": 105.71905, \"heading\": 247, \"id\": \"30f-79728\", \"time\": 1622678429000}\n",
      "\"SUCCESS\"\n",
      "6\n",
      "{\"lat\": 20.99887, \"lng\": 105.71897, \"heading\": 236, \"id\": \"30f-79728\", \"time\": 1622678432000}\n"
     ]
    }
   ],
   "source": [
    "prev = None\n",
    "for rid in range(inp.shape[0]):\n",
    "    print(rid)\n",
    "    row = inp.loc[rid]\n",
    "    obj = {\"id\": id, \"time\": row['positionTime'] * 1000, \"lat\": row['lat'], \"lng\": row['lng'], \"heading\": row['heading']}\n",
    "\n",
    "    json_str = json.dumps(obj)\n",
    "    if step == True:\n",
    "        raw_input(\"Press enter to continue...\")\n",
    "    elif prev != None:\n",
    "        time.sleep(delay)\n",
    "\n",
    "    prev = json_str\n",
    "    print json_str\n",
    "    x = requests.post(url, data=json_str)\n",
    "    print(x.text)"
   ],
   "metadata": {
    "collapsed": false,
    "pycharm": {
     "name": "#%%\n",
     "is_executing": true
    }
   }
  },
  {
   "cell_type": "code",
   "execution_count": 23,
   "outputs": [],
   "source": [],
   "metadata": {
    "collapsed": false,
    "pycharm": {
     "name": "#%%\n"
    }
   }
  }
 ],
 "metadata": {
  "kernelspec": {
   "display_name": "Python 2",
   "language": "python",
   "name": "python2"
  },
  "language_info": {
   "codemirror_mode": {
    "name": "ipython",
    "version": 2
   },
   "file_extension": ".py",
   "mimetype": "text/x-python",
   "name": "python",
   "nbconvert_exporter": "python",
   "pygments_lexer": "ipython2",
   "version": "2.7.6"
  }
 },
 "nbformat": 4,
 "nbformat_minor": 0
}