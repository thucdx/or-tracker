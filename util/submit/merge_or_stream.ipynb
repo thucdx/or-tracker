{
 "cells": [
  {
   "cell_type": "code",
   "execution_count": 2,
   "metadata": {},
   "outputs": [],
   "source": [
    "import pandas as pd\n",
    "import requests\n",
    "import time"
   ]
  },
  {
   "cell_type": "code",
   "execution_count": 3,
   "metadata": {},
   "outputs": [],
   "source": [
    "gps_inp = \"../../samples/data/atuanhm_2705_gps_processed.csv\"\n",
    "vehicle_inp = \"../../samples/data/atuanhm_2705_report_vehicle_processed.csv\"\n",
    "\n",
    "id = \"sample car 4\"\n",
    "delay=0.00"
   ]
  },
  {
   "cell_type": "code",
   "execution_count": 4,
   "metadata": {},
   "outputs": [],
   "source": [
    "tracking_gps_url = \"http://localhost:1234/trackMany\"\n",
    "tracking_vehicle_url = \"http://localhost:1234/track\""
   ]
  },
  {
   "cell_type": "code",
   "execution_count": 5,
   "metadata": {},
   "outputs": [],
   "source": [
    "import json\n",
    "\n",
    "def to_json(row, id=None):\n",
    "    obj = {}\n",
    "    obj['time'] = row['positionTime'] * 1000\n",
    "    obj['lat'] = row['lat']\n",
    "    obj['lng'] = row['lng']\n",
    "    obj['azimuth'] = row['heading']\n",
    "    if 'speed' in row:\n",
    "        obj['velocity'] = row['speed']\n",
    "    if 'height' in row:\n",
    "        obj['height'] = row['height']\n",
    "    if id is not None:\n",
    "        obj[\"id\"] = id\n",
    "        \n",
    "    return json.dumps(obj)"
   ]
  },
  {
   "cell_type": "code",
   "execution_count": 6,
   "metadata": {},
   "outputs": [],
   "source": [
    "def merge_gps(series, id=None):\n",
    "    res = []\n",
    "    for u in range(series.shape[0]):\n",
    "        res.append(json.loads(series.iloc[u]['json']))\n",
    "        \n",
    "    obj = {\"samples\": res}\n",
    "    if id is not None:\n",
    "        obj[\"id\"] = id\n",
    "    \n",
    "    return json.dumps(obj)"
   ]
  },
  {
   "cell_type": "code",
   "execution_count": 7,
   "metadata": {},
   "outputs": [],
   "source": [
    "gps_df = pd.read_csv(gps_inp)\n",
    "gps_df['json'] = gps_df.apply(lambda u: to_json(u), axis=1)"
   ]
  },
  {
   "cell_type": "code",
   "execution_count": 8,
   "metadata": {},
   "outputs": [
    {
     "data": {
      "text/html": [
       "<div>\n",
       "<style scoped>\n",
       "    .dataframe tbody tr th:only-of-type {\n",
       "        vertical-align: middle;\n",
       "    }\n",
       "\n",
       "    .dataframe tbody tr th {\n",
       "        vertical-align: top;\n",
       "    }\n",
       "\n",
       "    .dataframe thead th {\n",
       "        text-align: right;\n",
       "    }\n",
       "</style>\n",
       "<table border=\"1\" class=\"dataframe\">\n",
       "  <thead>\n",
       "    <tr style=\"text-align: right;\">\n",
       "      <th></th>\n",
       "      <th>ts</th>\n",
       "      <th>index_record</th>\n",
       "      <th>heading</th>\n",
       "      <th>lat</th>\n",
       "      <th>lng</th>\n",
       "      <th>positionTime</th>\n",
       "      <th>h_positionTime</th>\n",
       "      <th>h_receiveTime</th>\n",
       "      <th>json</th>\n",
       "    </tr>\n",
       "  </thead>\n",
       "  <tbody>\n",
       "    <tr>\n",
       "      <th>0</th>\n",
       "      <td>1622119844873</td>\n",
       "      <td>0</td>\n",
       "      <td>26</td>\n",
       "      <td>21.03023</td>\n",
       "      <td>105.78133</td>\n",
       "      <td>1622119835</td>\n",
       "      <td>2021-05-27 19:50:35</td>\n",
       "      <td>2021-05-27 19:50:44</td>\n",
       "      <td>{\"lat\": 21.03023, \"lng\": 105.78133000000001, \"...</td>\n",
       "    </tr>\n",
       "    <tr>\n",
       "      <th>1</th>\n",
       "      <td>1622119844873</td>\n",
       "      <td>1</td>\n",
       "      <td>26</td>\n",
       "      <td>21.03023</td>\n",
       "      <td>105.78133</td>\n",
       "      <td>1622119836</td>\n",
       "      <td>2021-05-27 19:50:36</td>\n",
       "      <td>2021-05-27 19:50:44</td>\n",
       "      <td>{\"lat\": 21.03023, \"lng\": 105.78133000000001, \"...</td>\n",
       "    </tr>\n",
       "    <tr>\n",
       "      <th>2</th>\n",
       "      <td>1622119844873</td>\n",
       "      <td>2</td>\n",
       "      <td>26</td>\n",
       "      <td>21.03023</td>\n",
       "      <td>105.78134</td>\n",
       "      <td>1622119837</td>\n",
       "      <td>2021-05-27 19:50:37</td>\n",
       "      <td>2021-05-27 19:50:44</td>\n",
       "      <td>{\"lat\": 21.03023, \"lng\": 105.78133999999999, \"...</td>\n",
       "    </tr>\n",
       "    <tr>\n",
       "      <th>3</th>\n",
       "      <td>1622119844873</td>\n",
       "      <td>3</td>\n",
       "      <td>26</td>\n",
       "      <td>21.03024</td>\n",
       "      <td>105.78134</td>\n",
       "      <td>1622119838</td>\n",
       "      <td>2021-05-27 19:50:38</td>\n",
       "      <td>2021-05-27 19:50:44</td>\n",
       "      <td>{\"lat\": 21.03024, \"lng\": 105.78133999999999, \"...</td>\n",
       "    </tr>\n",
       "    <tr>\n",
       "      <th>4</th>\n",
       "      <td>1622119844873</td>\n",
       "      <td>4</td>\n",
       "      <td>26</td>\n",
       "      <td>21.03023</td>\n",
       "      <td>105.78134</td>\n",
       "      <td>1622119839</td>\n",
       "      <td>2021-05-27 19:50:39</td>\n",
       "      <td>2021-05-27 19:50:44</td>\n",
       "      <td>{\"lat\": 21.03023, \"lng\": 105.78133999999999, \"...</td>\n",
       "    </tr>\n",
       "  </tbody>\n",
       "</table>\n",
       "</div>"
      ],
      "text/plain": [
       "              ts  index_record  heading       lat        lng  positionTime  \\\n",
       "0  1622119844873             0       26  21.03023  105.78133    1622119835   \n",
       "1  1622119844873             1       26  21.03023  105.78133    1622119836   \n",
       "2  1622119844873             2       26  21.03023  105.78134    1622119837   \n",
       "3  1622119844873             3       26  21.03024  105.78134    1622119838   \n",
       "4  1622119844873             4       26  21.03023  105.78134    1622119839   \n",
       "\n",
       "        h_positionTime        h_receiveTime  \\\n",
       "0  2021-05-27 19:50:35  2021-05-27 19:50:44   \n",
       "1  2021-05-27 19:50:36  2021-05-27 19:50:44   \n",
       "2  2021-05-27 19:50:37  2021-05-27 19:50:44   \n",
       "3  2021-05-27 19:50:38  2021-05-27 19:50:44   \n",
       "4  2021-05-27 19:50:39  2021-05-27 19:50:44   \n",
       "\n",
       "                                                json  \n",
       "0  {\"lat\": 21.03023, \"lng\": 105.78133000000001, \"...  \n",
       "1  {\"lat\": 21.03023, \"lng\": 105.78133000000001, \"...  \n",
       "2  {\"lat\": 21.03023, \"lng\": 105.78133999999999, \"...  \n",
       "3  {\"lat\": 21.03024, \"lng\": 105.78133999999999, \"...  \n",
       "4  {\"lat\": 21.03023, \"lng\": 105.78133999999999, \"...  "
      ]
     },
     "execution_count": 8,
     "metadata": {},
     "output_type": "execute_result"
    }
   ],
   "source": [
    "gps_df.head()"
   ]
  },
  {
   "cell_type": "code",
   "execution_count": 9,
   "metadata": {},
   "outputs": [],
   "source": [
    "vehicle_df = pd.read_csv(vehicle_inp)\n",
    "vehicle_df['json'] = vehicle_df.apply(lambda r: to_json(r, id), axis=1)\n",
    "vehicle_df['type'] = 'vehicle'"
   ]
  },
  {
   "cell_type": "markdown",
   "metadata": {},
   "source": [
    "### Merge"
   ]
  },
  {
   "cell_type": "code",
   "execution_count": 10,
   "metadata": {},
   "outputs": [],
   "source": [
    "gps_merge = pd.DataFrame()\n",
    "gps_merge = gps_df.groupby(by='ts').apply(lambda row: merge_gps(row, id))\n",
    "\n",
    "gps_merge = gps_merge.reset_index()\n",
    "gps_merge.columns = ['ts', 'json']\n",
    "gps_merge['type'] = 'gps'"
   ]
  },
  {
   "cell_type": "code",
   "execution_count": 33,
   "metadata": {
    "scrolled": true
   },
   "outputs": [
    {
     "data": {
      "text/plain": [
       "'{\"id\": \"sample car 4\", \"samples\": [{\"lat\": 21.03023, \"lng\": 105.78133000000001, \"time\": 1622119835000, \"azimuth\": 26}, {\"lat\": 21.03023, \"lng\": 105.78133000000001, \"time\": 1622119836000, \"azimuth\": 26}, {\"lat\": 21.03023, \"lng\": 105.78133999999999, \"time\": 1622119837000, \"azimuth\": 26}, {\"lat\": 21.03024, \"lng\": 105.78133999999999, \"time\": 1622119838000, \"azimuth\": 26}, {\"lat\": 21.03023, \"lng\": 105.78133999999999, \"time\": 1622119839000, \"azimuth\": 26}, {\"lat\": 21.03023, \"lng\": 105.78133999999999, \"time\": 1622119840000, \"azimuth\": 26}]}'"
      ]
     },
     "execution_count": 33,
     "metadata": {},
     "output_type": "execute_result"
    }
   ],
   "source": [
    "gps_merge['json'][0]"
   ]
  },
  {
   "cell_type": "code",
   "execution_count": 34,
   "metadata": {},
   "outputs": [],
   "source": [
    "merge_all = pd.concat([gps_merge, vehicle_df[['ts', 'json', 'type']]], ignore_index=True)"
   ]
  },
  {
   "cell_type": "code",
   "execution_count": 35,
   "metadata": {
    "scrolled": true
   },
   "outputs": [],
   "source": [
    "merge_all.sort_values(by='ts', inplace=True)"
   ]
  },
  {
   "cell_type": "code",
   "execution_count": 40,
   "metadata": {},
   "outputs": [],
   "source": [
    "total_gps = len(merge_all[merge_all['type'] == 'gps'])* 7 + len(merge_all[merge_all['type'] == 'vehicle'])"
   ]
  },
  {
   "cell_type": "code",
   "execution_count": 55,
   "metadata": {},
   "outputs": [],
   "source": [
    "start = time.time()\n",
    "for i in range(merge_all.shape[0]):\n",
    "    row = merge_all.iloc[i]\n",
    "#     print row\n",
    "    push = True\n",
    "    if row['type'] == 'gps':\n",
    "        url = tracking_gps_url\n",
    "        push = True\n",
    "    else:\n",
    "        push = True\n",
    "        url = tracking_vehicle_url\n",
    "    \n",
    "    if push:\n",
    "        x = requests.post(url, data=row['json'])\n",
    "#         print(row['json'])\n",
    "#         print(x.text)\n",
    "        time.sleep(delay)\n",
    "end = time.time()"
   ]
  },
  {
   "cell_type": "code",
   "execution_count": 56,
   "metadata": {},
   "outputs": [
    {
     "name": "stdout",
     "output_type": "stream",
     "text": [
      "Send 1222 gps in 12.0523440838 secs. Avg = 9.86 ms\n"
     ]
    }
   ],
   "source": [
    "print \"Send %s gps in %s secs. Avg = %.2f ms\" % (total_gps, end - start, (end - start)*1000/total_gps)"
   ]
  },
  {
   "cell_type": "code",
   "execution_count": null,
   "metadata": {},
   "outputs": [],
   "source": []
  }
 ],
 "metadata": {
  "kernelspec": {
   "display_name": "Python 2",
   "language": "python",
   "name": "python2"
  },
  "language_info": {
   "codemirror_mode": {
    "name": "ipython",
    "version": 2
   },
   "file_extension": ".py",
   "mimetype": "text/x-python",
   "name": "python",
   "nbconvert_exporter": "python",
   "pygments_lexer": "ipython2",
   "version": "2.7.15"
  }
 },
 "nbformat": 4,
 "nbformat_minor": 2
}
