{
 "cells": [
  {
   "cell_type": "code",
   "execution_count": 55,
   "metadata": {},
   "outputs": [],
   "source": [
    "import pandas as pd\n",
    "from datetime import datetime"
   ]
  },
  {
   "cell_type": "code",
   "execution_count": 82,
   "metadata": {},
   "outputs": [],
   "source": [
    "inp = \"../atuanhm_2705_report_vehicle.csv\"\n",
    "out = \"../atuanhm_2705_report_vehicle_processed.csv\"\n",
    "\n",
    "rv = pd.read_csv(inp)"
   ]
  },
  {
   "cell_type": "code",
   "execution_count": 83,
   "metadata": {},
   "outputs": [
    {
     "data": {
      "text/html": [
       "<div>\n",
       "<style scoped>\n",
       "    .dataframe tbody tr th:only-of-type {\n",
       "        vertical-align: middle;\n",
       "    }\n",
       "\n",
       "    .dataframe tbody tr th {\n",
       "        vertical-align: top;\n",
       "    }\n",
       "\n",
       "    .dataframe thead th {\n",
       "        text-align: right;\n",
       "    }\n",
       "</style>\n",
       "<table border=\"1\" class=\"dataframe\">\n",
       "  <thead>\n",
       "    <tr style=\"text-align: right;\">\n",
       "      <th></th>\n",
       "      <th>entity_id</th>\n",
       "      <th>key</th>\n",
       "      <th>partition</th>\n",
       "      <th>ts</th>\n",
       "      <th>system.todate(ts)</th>\n",
       "      <th>long_v</th>\n",
       "    </tr>\n",
       "  </thead>\n",
       "  <tbody>\n",
       "    <tr>\n",
       "      <th>0</th>\n",
       "      <td>5a8848e0-801d-11eb-8419-03264d3b8aac</td>\n",
       "      <td>publishData.dataFlow.gpsPosition.heading</td>\n",
       "      <td>1619827200000</td>\n",
       "      <td>1622119847071</td>\n",
       "      <td>2021-05-27</td>\n",
       "      <td>18</td>\n",
       "    </tr>\n",
       "    <tr>\n",
       "      <th>1</th>\n",
       "      <td>5a8848e0-801d-11eb-8419-03264d3b8aac</td>\n",
       "      <td>publishData.dataFlow.gpsPosition.heading</td>\n",
       "      <td>1619827200000</td>\n",
       "      <td>1622119855490</td>\n",
       "      <td>2021-05-27</td>\n",
       "      <td>59</td>\n",
       "    </tr>\n",
       "    <tr>\n",
       "      <th>2</th>\n",
       "      <td>5a8848e0-801d-11eb-8419-03264d3b8aac</td>\n",
       "      <td>publishData.dataFlow.gpsPosition.heading</td>\n",
       "      <td>1619827200000</td>\n",
       "      <td>1622119863744</td>\n",
       "      <td>2021-05-27</td>\n",
       "      <td>97</td>\n",
       "    </tr>\n",
       "    <tr>\n",
       "      <th>3</th>\n",
       "      <td>5a8848e0-801d-11eb-8419-03264d3b8aac</td>\n",
       "      <td>publishData.dataFlow.gpsPosition.heading</td>\n",
       "      <td>1619827200000</td>\n",
       "      <td>1622119871266</td>\n",
       "      <td>2021-05-27</td>\n",
       "      <td>4</td>\n",
       "    </tr>\n",
       "    <tr>\n",
       "      <th>4</th>\n",
       "      <td>5a8848e0-801d-11eb-8419-03264d3b8aac</td>\n",
       "      <td>publishData.dataFlow.gpsPosition.heading</td>\n",
       "      <td>1619827200000</td>\n",
       "      <td>1622119879772</td>\n",
       "      <td>2021-05-27</td>\n",
       "      <td>38</td>\n",
       "    </tr>\n",
       "  </tbody>\n",
       "</table>\n",
       "</div>"
      ],
      "text/plain": [
       "                              entity_id  \\\n",
       "0  5a8848e0-801d-11eb-8419-03264d3b8aac   \n",
       "1  5a8848e0-801d-11eb-8419-03264d3b8aac   \n",
       "2  5a8848e0-801d-11eb-8419-03264d3b8aac   \n",
       "3  5a8848e0-801d-11eb-8419-03264d3b8aac   \n",
       "4  5a8848e0-801d-11eb-8419-03264d3b8aac   \n",
       "\n",
       "                                        key      partition             ts  \\\n",
       "0  publishData.dataFlow.gpsPosition.heading  1619827200000  1622119847071   \n",
       "1  publishData.dataFlow.gpsPosition.heading  1619827200000  1622119855490   \n",
       "2  publishData.dataFlow.gpsPosition.heading  1619827200000  1622119863744   \n",
       "3  publishData.dataFlow.gpsPosition.heading  1619827200000  1622119871266   \n",
       "4  publishData.dataFlow.gpsPosition.heading  1619827200000  1622119879772   \n",
       "\n",
       "  system.todate(ts)  long_v  \n",
       "0        2021-05-27      18  \n",
       "1        2021-05-27      59  \n",
       "2        2021-05-27      97  \n",
       "3        2021-05-27       4  \n",
       "4        2021-05-27      38  "
      ]
     },
     "execution_count": 83,
     "metadata": {},
     "output_type": "execute_result"
    }
   ],
   "source": [
    "rv.head()"
   ]
  },
  {
   "cell_type": "code",
   "execution_count": 84,
   "metadata": {},
   "outputs": [],
   "source": [
    "pivot = pd.pivot_table(rv, index=['ts'], columns='key', values=['long_v'])\n",
    "prefix = 'publishData.dataFlow.gpsPosition'\n",
    "pivot.columns = [col[-1].replace(\"publishData.dataFlow.gpsPosition.\", \"\").replace(\"publishData.dataFlow.\", \"\") for col in pivot.columns]\n",
    "pivot.reset_index(inplace=True)\n",
    "pivot['lat'] = pivot['lat'].apply(lambda u: u/1e5)\n",
    "pivot['lng'] = pivot['lng'].apply(lambda u: u/1e5)\n",
    "pivot['height'] = pivot['height'] - 10000\n",
    "pivot['h_positionTime'] = pivot['positionTime'].apply(lambda ts: datetime.fromtimestamp(ts).strftime('%Y-%m-%d %H:%M:%S'))\n",
    "pivot['h_receiveTime'] = pivot['ts'].apply(lambda ts: datetime.fromtimestamp(ts/1000).strftime('%Y-%m-%d %H:%M:%S'))"
   ]
  },
  {
   "cell_type": "code",
   "execution_count": 85,
   "metadata": {},
   "outputs": [],
   "source": [
    "pivot.to_csv(out, index=False)"
   ]
  },
  {
   "cell_type": "code",
   "execution_count": 86,
   "metadata": {},
   "outputs": [
    {
     "data": {
      "text/plain": [
       "Index(['ts', 'heading', 'height', 'lat', 'lng', 'positionTime', 'speed',\n",
       "       'h_positionTime', 'h_receiveTime'],\n",
       "      dtype='object')"
      ]
     },
     "execution_count": 86,
     "metadata": {},
     "output_type": "execute_result"
    }
   ],
   "source": [
    "pivot.columns"
   ]
  },
  {
   "cell_type": "code",
   "execution_count": null,
   "metadata": {},
   "outputs": [],
   "source": []
  }
 ],
 "metadata": {
  "kernelspec": {
   "display_name": "Python 3",
   "language": "python",
   "name": "python3"
  },
  "language_info": {
   "codemirror_mode": {
    "name": "ipython",
    "version": 3
   },
   "file_extension": ".py",
   "mimetype": "text/x-python",
   "name": "python",
   "nbconvert_exporter": "python",
   "pygments_lexer": "ipython3",
   "version": "3.8.6"
  }
 },
 "nbformat": 4,
 "nbformat_minor": 2
}
